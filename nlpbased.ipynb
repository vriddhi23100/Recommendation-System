{
 "cells": [
  {
   "cell_type": "code",
   "execution_count": 7,
   "id": "bb0f18d5",
   "metadata": {},
   "outputs": [],
   "source": [
    "import os\n",
    "import pandas as pd\n",
    "\n",
    "def load_reviews(directory, label):\n",
    "    texts = []\n",
    "    for fname in os.listdir(directory):\n",
    "        with open(os.path.join(directory, fname), encoding='utf-8') as f:\n",
    "            texts.append(f.read())\n",
    "    return pd.DataFrame({'review': texts, 'sentiment': label})\n",
    "\n",
    "pos_reviews = load_reviews('aclImdb/train/pos', 1).head(1000)\n",
    "neg_reviews = load_reviews('aclImdb/train/neg', 0).head(1000)\n",
    "\n",
    "df = pd.concat([pos_reviews, neg_reviews]).reset_index(drop=True)\n"
   ]
  },
  {
   "cell_type": "code",
   "execution_count": 8,
   "id": "7af17cd8",
   "metadata": {},
   "outputs": [],
   "source": [
    "import re\n",
    "\n",
    "def clean_text(text):\n",
    "    text = re.sub(r'<.*?>', '', text)  # remove HTML\n",
    "    text = re.sub(r'[^a-zA-Z\\s]', '', text)  # keep only letters\n",
    "    return text.lower()\n",
    "\n",
    "df['cleaned'] = df['review'].apply(clean_text)\n"
   ]
  },
  {
   "cell_type": "code",
   "execution_count": 9,
   "id": "fa890fea",
   "metadata": {},
   "outputs": [],
   "source": [
    "from sklearn.feature_extraction.text import TfidfVectorizer\n",
    "\n",
    "vectorizer = TfidfVectorizer(max_features=5000)\n",
    "X = vectorizer.fit_transform(df['cleaned'])"
   ]
  },
  {
   "cell_type": "code",
   "execution_count": 10,
   "id": "39178f13",
   "metadata": {},
   "outputs": [
    {
     "name": "stdout",
     "output_type": "stream",
     "text": [
      "Accuracy: 0.885\n"
     ]
    }
   ],
   "source": [
    "from sklearn.linear_model import LogisticRegression\n",
    "from sklearn.model_selection import train_test_split\n",
    "\n",
    "X_train, X_test, y_train, y_test = train_test_split(X, df['sentiment'], test_size=0.2, random_state=42)\n",
    "\n",
    "clf = LogisticRegression()\n",
    "clf.fit(X_train, y_train)\n",
    "\n",
    "print(\"Accuracy:\", clf.score(X_test, y_test))\n"
   ]
  },
  {
   "cell_type": "code",
   "execution_count": 11,
   "id": "6421568d",
   "metadata": {},
   "outputs": [],
   "source": [
    "from sklearn.metrics.pairwise import cosine_similarity\n",
    "\n",
    "def recommend_movies(user_review, top_n=5):\n",
    "    cleaned = clean_text(user_review)\n",
    "    vec = vectorizer.transform([cleaned])\n",
    "    \n",
    "    sentiment = clf.predict(vec)[0]\n",
    "    proba = clf.predict_proba(vec)[0]\n",
    "    \n",
    "    print(\"Predicted Sentiment:\", \"Positive\" if sentiment == 1 else \"Negative\")\n",
    "    if sentiment == 1:\n",
    "      print(f\"Confidence: {proba[1]:.2f}\")\n",
    "    else:\n",
    "      print(f\"Confidence: {proba[0]:.2f}\")\n",
    "      return \"Sorry, no recommendations based on negative sentiment.\"\n",
    "\n",
    "    pos_indices = df[df['sentiment'] == 1].index\n",
    "    pos_vectors = X[pos_indices]\n",
    "\n",
    "    sims = cosine_similarity(vec, pos_vectors).flatten()\n",
    "    top_indices = pos_indices[sims.argsort()[-top_n:][::-1]]\n",
    "\n",
    "    return df.loc[top_indices, 'review']\n"
   ]
  },
  {
   "cell_type": "code",
   "execution_count": 12,
   "id": "10596b71",
   "metadata": {},
   "outputs": [
    {
     "name": "stdout",
     "output_type": "stream",
     "text": [
      "Predicted Sentiment: Negative\n",
      "Confidence: 0.94\n",
      "Sorry, no recommendations based on negative sentiment.\n"
     ]
    }
   ],
   "source": [
    "user_input = \"It was just bad, illogical climax, poor acting, worst movie ever.\"\n",
    "recommendations = recommend_movies(user_input)\n",
    "if isinstance(recommendations, str):\n",
    "    print(recommendations) \n",
    "else:\n",
    "    for i, rec in enumerate(recommendations, 1):\n",
    "        print(f\"{i}. {rec[:300]}...\\n\")"
   ]
  },
  {
   "cell_type": "code",
   "execution_count": 13,
   "id": "fbfced58",
   "metadata": {},
   "outputs": [
    {
     "name": "stdout",
     "output_type": "stream",
     "text": [
      "Predicted Sentiment: Positive\n",
      "Confidence: 0.71\n",
      "1. This entire movie is worth watching just for the magnificent final moment - its the best ending of any movie I've ever seen. Perfect, beautiful, funny, simply wonderful.<br /><br />I found this movie delightful, even with it's French taking-itself-too-seriously deep meanings thing going on. I loved ...\n",
      "\n",
      "2. good movie, good music, good background and an acceptable plot. but the main point again as his movies tend to be, the man is the best actor in idia and can turn dust into gold. nana patekar. this may be his second best performance after parinda( others may disagree). although other movies are not f...\n",
      "\n",
      "3. When I saw this movie I was stunned by what a great movie it was. This is the only movie I think I would ever give a 10 star rating. I am sure this movie will always be in my top 5.<br /><br />The acting is superb. Leonardo DiCaprio and Kate Winslett are at their best. I don't think anyone could hav...\n",
      "\n",
      "4. all the acting done in the first season has been really amazing. the first look you get of Max and Zach is through Geneva Locke and Chris Lazar or as i like to call them the minis. the minis do the best acting job that i have ever seen kids do. the main actors and actresses i.e. Jessica Alba Michael...\n",
      "\n",
      "5. Beautiful and touching movie. Rich colors, great settings, good acting and one of the most charming movies I have seen in a while. I never saw such an interesting setting when I was in China. My wife liked it so much she asked me to log on and rate it so other would enjoy too....\n",
      "\n"
     ]
    }
   ],
   "source": [
    "user_input = \"Best Movie ever seen, great casting, acting and music was too good.\"\n",
    "recommendations = recommend_movies(user_input)\n",
    "if isinstance(recommendations, str):\n",
    "    print(recommendations) \n",
    "else:\n",
    "    for i, rec in enumerate(recommendations, 1):\n",
    "        print(f\"{i}. {rec[:300]}...\\n\")"
   ]
  }
 ],
 "metadata": {
  "kernelspec": {
   "display_name": "Python 3",
   "language": "python",
   "name": "python3"
  },
  "language_info": {
   "codemirror_mode": {
    "name": "ipython",
    "version": 3
   },
   "file_extension": ".py",
   "mimetype": "text/x-python",
   "name": "python",
   "nbconvert_exporter": "python",
   "pygments_lexer": "ipython3",
   "version": "3.13.1"
  }
 },
 "nbformat": 4,
 "nbformat_minor": 5
}
